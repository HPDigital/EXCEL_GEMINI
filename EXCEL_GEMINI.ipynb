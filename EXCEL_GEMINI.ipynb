{
 "cells": [
  {
   "cell_type": "code",
   "execution_count": 8,
   "id": "6882f03d-0c33-4665-ae6e-03eb05d753f1",
   "metadata": {},
   "outputs": [
    {
     "name": "stdout",
     "output_type": "stream",
     "text": [
      "Error retrieving author for 'C:\\Users\\HP\\Downloads\\Tareas\\copia1.xlsx': 'DocumentProperties' object has no attribute 'get'\n",
      "Error retrieving author for 'C:\\Users\\HP\\Downloads\\Tareas\\copia2.xlsx': 'DocumentProperties' object has no attribute 'get'\n",
      "Error retrieving author for 'C:\\Users\\HP\\Downloads\\Tareas\\copia3.xlsx': 'DocumentProperties' object has no attribute 'get'\n",
      "Error retrieving author for 'C:\\Users\\HP\\Downloads\\Tareas\\copia4.xlsx': 'DocumentProperties' object has no attribute 'get'\n",
      "Error retrieving author for 'C:\\Users\\HP\\Downloads\\Tareas\\copia5.xlsx': 'DocumentProperties' object has no attribute 'get'\n",
      "Información guardada en: C:\\Users\\HP\\Downloads\\nuevo_archivo.xlsx\n"
     ]
    }
   ],
   "source": [
    "import os\n",
    "import openpyxl\n",
    "\n",
    "# Function to obtain creation date\n",
    "def obtener_fecha_creacion(archivo):\n",
    "    return os.path.getctime(archivo)\n",
    "\n",
    "# Function to obtain last modification date\n",
    "def obtener_fecha_modificacion(archivo):\n",
    "    return os.path.getmtime(archivo)\n",
    "\n",
    "# Function to handle potential missing author information\n",
    "def obtener_autor_excel(archivo):\n",
    "    try:\n",
    "        libro_excel = openpyxl.load_workbook(archivo)  # Open in read-only mode (recommended)\n",
    "        propiedades = libro_excel.properties\n",
    "        # Access author using dictionary lookup (updated for compatibility)\n",
    "        return propiedades.get(\"creator\", \"Desconocido\")  # Use 'creator' if 'author' is unavailable\n",
    "    except Exception as e:  # Catch potential errors gracefully\n",
    "        print(f\"Error retrieving author for '{archivo}': {e}\")\n",
    "        return \"Error\"  # Or a custom error value\n",
    "\n",
    "# Function to extract information from Excel files\n",
    "def extraer_informacion(ruta_carpeta):\n",
    "    informacion = []\n",
    "    archivos = os.listdir(ruta_carpeta)\n",
    "\n",
    "    for archivo in archivos:\n",
    "        ruta_archivo = os.path.join(ruta_carpeta, archivo)\n",
    "        if archivo.endswith(\".xlsx\"):\n",
    "            try:\n",
    "                fecha_creacion = obtener_fecha_creacion(ruta_archivo)\n",
    "                fecha_modificacion = obtener_fecha_modificacion(ruta_archivo)\n",
    "                autor = obtener_autor_excel(ruta_archivo)\n",
    "                informacion.append((archivo, fecha_creacion, fecha_modificacion, autor))\n",
    "            except Exception as e:  # Handle errors for individual files\n",
    "                print(f\"Error processing '{archivo}': {e}\")\n",
    "\n",
    "    return informacion\n",
    "\n",
    "# Function to save information to a new Excel file\n",
    "def guardar_informacion(informacion, ruta_archivo_nuevo):\n",
    "    libro_excel = openpyxl.Workbook()\n",
    "    hoja_calculo = libro_excel.active\n",
    "\n",
    "    hoja_calculo.append([\"Nombre archivo\", \"Fecha creación\", \"Fecha modificación\", \"Autor\"])\n",
    "    for fila in informacion:\n",
    "        hoja_calculo.append(fila)\n",
    "\n",
    "    libro_excel.save(ruta_archivo_nuevo)\n",
    "    print(f\"Información guardada en: {ruta_archivo_nuevo}\")\n",
    "\n",
    "# Replace with your folder and output file paths\n",
    "ruta_carpeta = \"C:\\\\Users\\\\HP\\\\Downloads\\\\Tareas\"\n",
    "ruta_archivo_nuevo = \"C:\\\\Users\\\\HP\\\\Downloads\\\\nuevo_archivo.xlsx\"\n",
    "\n",
    "informacion = extraer_informacion(ruta_carpeta)\n",
    "guardar_informacion(informacion, ruta_archivo_nuevo)\n",
    "\n",
    "\n"
   ]
  },
  {
   "cell_type": "code",
   "execution_count": null,
   "id": "039e4aed-7ca9-4f43-b8c7-f41585d2490f",
   "metadata": {},
   "outputs": [],
   "source": []
  }
 ],
 "metadata": {
  "kernelspec": {
   "display_name": "Python 3 (ipykernel)",
   "language": "python",
   "name": "python3"
  },
  "language_info": {
   "codemirror_mode": {
    "name": "ipython",
    "version": 3
   },
   "file_extension": ".py",
   "mimetype": "text/x-python",
   "name": "python",
   "nbconvert_exporter": "python",
   "pygments_lexer": "ipython3",
   "version": "3.11.7"
  }
 },
 "nbformat": 4,
 "nbformat_minor": 5
}
